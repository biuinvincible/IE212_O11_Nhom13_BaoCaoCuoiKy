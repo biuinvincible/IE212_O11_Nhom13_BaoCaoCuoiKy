{
 "cells": [
  {
   "cell_type": "markdown",
   "id": "bcc98f27-934a-4cd2-b556-1cc2a3470cdc",
   "metadata": {},
   "source": [
    "# Weather prediction system producer"
   ]
  },
  {
   "cell_type": "code",
   "execution_count": 1,
   "id": "de6c7dc1-67d5-454d-b2fe-b26046600101",
   "metadata": {},
   "outputs": [],
   "source": [
    "from kafka import KafkaProducer\n",
    "from time import sleep\n",
    "from sodapy import Socrata\n",
    "import logging\n",
    "from json import dumps, loads\n",
    "import csv\n",
    "from io import StringIO\n"
   ]
  },
  {
   "cell_type": "code",
   "execution_count": 2,
   "id": "b6134cc3-27a2-4dd4-b7de-8a0cee6d793b",
   "metadata": {},
   "outputs": [],
   "source": [
    "logging.basicConfig(level=logging.INFO)"
   ]
  },
  {
   "cell_type": "code",
   "execution_count": 3,
   "id": "db96c1cc-44df-4466-908c-9b99ca9d5203",
   "metadata": {},
   "outputs": [
    {
     "name": "stderr",
     "output_type": "stream",
     "text": [
      "INFO:kafka.conn:<BrokerConnection node_id=bootstrap-0 host=localhost:9092 <connecting> [IPv6 ('::1', 9092, 0, 0)]>: connecting to localhost:9092 [('::1', 9092, 0, 0) IPv6]\n",
      "INFO:kafka.conn:Probing node bootstrap-0 broker version\n",
      "INFO:kafka.conn:<BrokerConnection node_id=bootstrap-0 host=localhost:9092 <connecting> [IPv6 ('::1', 9092, 0, 0)]>: Connection complete.\n",
      "INFO:kafka.conn:Broker version identified as 2.5.0\n",
      "INFO:kafka.conn:Set configuration api_version=(2, 5, 0) to skip auto check_version requests on startup\n"
     ]
    }
   ],
   "source": [
    "topic = 'TestDoAn'\n",
    "producer = KafkaProducer(bootstrap_servers='localhost:9092', value_serializer=lambda K:dumps(K).encode('utf-8'))"
   ]
  },
  {
   "cell_type": "code",
   "execution_count": 4,
   "id": "982de98d-fad6-4f23-aa0b-e95c069b270a",
   "metadata": {},
   "outputs": [],
   "source": [
    "user_name = \"<user_name>\"\n",
    "password = \"<password>\"\n",
    "api_key = \"<api_key>\"\n",
    "client = Socrata('data.cityofchicago.org', api_key,username=user_name,password=password)"
   ]
  },
  {
   "cell_type": "code",
   "execution_count": null,
   "id": "0bfb06a2-8652-4491-afa5-a421b93976f0",
   "metadata": {},
   "outputs": [
    {
     "name": "stderr",
     "output_type": "stream",
     "text": [
      "INFO:kafka.conn:<BrokerConnection node_id=0 host=LAPTOP-0J6HSUP4:9092 <connecting> [IPv6 ('fe80::c910:fe8d:605b:4633', 9092, 0, 18)]>: connecting to LAPTOP-0J6HSUP4:9092 [('fe80::c910:fe8d:605b:4633', 9092, 0, 18) IPv6]\n",
      "INFO:kafka.conn:<BrokerConnection node_id=0 host=LAPTOP-0J6HSUP4:9092 <connecting> [IPv6 ('fe80::c910:fe8d:605b:4633', 9092, 0, 18)]>: Connection complete.\n",
      "INFO:kafka.conn:<BrokerConnection node_id=bootstrap-0 host=localhost:9092 <connected> [IPv6 ('::1', 9092, 0, 0)]>: Closing connection. \n"
     ]
    },
    {
     "name": "stdout",
     "output_type": "stream",
     "text": [
      "Oak Street Weather Station,2024-02-01T06:00:00.000,5,3.3,77,0,0,32.2,0,273,3.4,6.9,992,1,358,11.9,02/01/2024 6:00 AM,OakStreetWeatherStation202402010600\n",
      "\n",
      "Oak Street Weather Station,2024-02-01T05:00:00.000,5.3,3.5,76,0,0,32.2,0,296,3,6.5,992.4,1,358,11.9,02/01/2024 5:00 AM,OakStreetWeatherStation202402010500\n",
      "\n",
      "Oak Street Weather Station,2024-02-01T04:00:00.000,5,3.4,78,0,0,32.2,0,275,5,8.7,992.6,1,358,11.7,02/01/2024 4:00 AM,OakStreetWeatherStation202402010400\n",
      "\n",
      "Oak Street Weather Station,2024-02-01T03:00:00.000,5.1,3.5,78,0,0,32.2,0,284,4.5,9.1,992.6,1,358,11.9,02/01/2024 3:00 AM,OakStreetWeatherStation202402010300\n",
      "\n",
      "Oak Street Weather Station,2024-02-01T02:00:00.000,5,3.5,79,0,0,32.2,0,270,4.3,10.2,993.3,1,358,11.7,02/01/2024 2:00 AM,OakStreetWeatherStation202402010200\n",
      "\n",
      "Oak Street Weather Station,2024-02-01T01:00:00.000,4.9,3.5,80,0,0,32.2,0,274,4.8,10,993.4,0,358,11.9,02/01/2024 1:00 AM,OakStreetWeatherStation202402010100\n",
      "\n",
      "Oak Street Weather Station,2024-02-01T00:00:00.000,4.7,3.4,81,0,0,32.2,0,273,3.3,7.1,994.3,1,357,11.8,02/01/2024 12:00 AM,OakStreetWeatherStation202402012400\n",
      "\n",
      "Oak Street Weather Station,2024-01-31T23:00:00.000,4.2,3,82,0,0,32.2,0,287,2.1,6.5,994.3,1,358,11.9,01/31/2024 11:00 PM,OakStreetWeatherStation202401312300\n",
      "\n",
      "Oak Street Weather Station,2024-01-31T22:00:00.000,4.2,3,82,0,0,32.2,0,287,3.5,9.3,993.8,1,358,11.9,01/31/2024 10:00 PM,OakStreetWeatherStation202401312200\n",
      "\n",
      "Oak Street Weather Station,2024-01-31T21:00:00.000,4.3,3,81,0,0,32.2,0,305,3.5,7.4,994.4,1,358,11.9,01/31/2024 9:00 PM,OakStreetWeatherStation202401312100\n",
      "\n",
      "Oak Street Weather Station,2024-01-31T20:00:00.000,4.3,2.9,81,0,0,32.2,0,280,3.1,5.8,994.7,1,358,12,01/31/2024 8:00 PM,OakStreetWeatherStation202401312000\n",
      "\n",
      "Oak Street Weather Station,2024-01-31T19:00:00.000,4.3,2.9,80,0,0,32.2,0,265,2.6,3.4,995.3,1,358,11.9,01/31/2024 7:00 PM,OakStreetWeatherStation202401311900\n",
      "\n",
      "Oak Street Weather Station,2024-01-31T18:00:00.000,4.2,2.7,79,0,0,32.2,0,270,1.8,4.9,996.2,1,358,11.9,01/31/2024 6:00 PM,OakStreetWeatherStation202401311800\n",
      "\n"
     ]
    }
   ],
   "source": [
    "temp = []\n",
    "while (True):\n",
    "    try:\n",
    "        results = client.get(\"k7hf-8y75\", limit=13, where=\"station_name == 'Oak Street Weather Station'\", order =\"measurement_timestamp DESC\")\n",
    "        items = [record for record in results if record not in temp]\n",
    "        for item in items:\n",
    "            output = StringIO()\n",
    "            writer = csv.writer(output)\n",
    "            writer.writerow(item.values())\n",
    "            csv_string = output.getvalue()\n",
    "            print(csv_string)\n",
    "            producer.send(topic, csv_string)\n",
    "            sleep(1)\n",
    "        temp = results\n",
    "        sleep(60)\n",
    "    except KeyboardInterrupt:\n",
    "        print('break')\n",
    "        break\n",
    "output.close()"
   ]
  },
  {
   "cell_type": "code",
   "execution_count": null,
   "id": "3c1803fc-3ade-4183-b66b-c7852929c03d",
   "metadata": {},
   "outputs": [],
   "source": []
  }
 ],
 "metadata": {
  "kernelspec": {
   "display_name": "Python 3 (ipykernel)",
   "language": "python",
   "name": "python3"
  },
  "language_info": {
   "codemirror_mode": {
    "name": "ipython",
    "version": 3
   },
   "file_extension": ".py",
   "mimetype": "text/x-python",
   "name": "python",
   "nbconvert_exporter": "python",
   "pygments_lexer": "ipython3",
   "version": "3.8.18"
  }
 },
 "nbformat": 4,
 "nbformat_minor": 5
}
